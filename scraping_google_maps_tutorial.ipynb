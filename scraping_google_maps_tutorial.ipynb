{
 "cells": [
  {
   "cell_type": "code",
   "execution_count": 2,
   "metadata": {
    "ExecuteTime": {
     "end_time": "2023-02-28T00:03:35.205681Z",
     "start_time": "2023-02-28T00:03:34.699744Z"
    }
   },
   "outputs": [],
   "source": [
    "from google_maps_scraper import google_maps_scraper"
   ]
  },
  {
   "cell_type": "code",
   "execution_count": 13,
   "metadata": {
    "ExecuteTime": {
     "end_time": "2023-02-28T00:34:30.155685Z",
     "start_time": "2023-02-28T00:34:30.144658Z"
    }
   },
   "outputs": [
    {
     "name": "stdout",
     "output_type": "stream",
     "text": [
      "Iniciando Scraper...\n"
     ]
    }
   ],
   "source": [
    "wizard = google_maps_scraper(['Beach Park', 'Petverso Café'])"
   ]
  },
  {
   "cell_type": "code",
   "execution_count": 14,
   "metadata": {
    "ExecuteTime": {
     "end_time": "2023-02-28T00:35:14.185530Z",
     "start_time": "2023-02-28T00:34:30.910687Z"
    }
   },
   "outputs": [
    {
     "name": "stdout",
     "output_type": "stream",
     "text": [
      "Horário de início: 2023-02-27 21:34:30.912689\n",
      "=========================\n",
      "Beach Park\n",
      "qtd comentarios na página (min = 5): 5\n",
      "=========================\n",
      "Petverso Café\n",
      "qtd comentarios na página (min = 5): 7\n",
      "Coleta finalizada! Fechando navegador... (Horário: 2023-02-27 21:35:12.031818)\n",
      "\n",
      "\n",
      "Horário de fim: 2023-02-27 21:35:14.171001\n"
     ]
    }
   ],
   "source": [
    "dados = wizard.coletar(5)"
   ]
  },
  {
   "cell_type": "code",
   "execution_count": 15,
   "metadata": {
    "ExecuteTime": {
     "end_time": "2023-02-28T00:36:08.895164Z",
     "start_time": "2023-02-28T00:36:08.879631Z"
    }
   },
   "outputs": [
    {
     "name": "stdout",
     "output_type": "stream",
     "text": [
      "  nome_do_estabelecimento nota  qtd_comentarios   timestamp_coleta\n",
      "0              Beach Park  4,5              759  27/02/23 21:34:32\n",
      "1           Petverso Café  4,4               39  27/02/23 21:35:04\n"
     ]
    }
   ],
   "source": [
    "print(dados['notas'])"
   ]
  },
  {
   "cell_type": "code",
   "execution_count": 16,
   "metadata": {
    "ExecuteTime": {
     "end_time": "2023-02-28T00:36:10.292123Z",
     "start_time": "2023-02-28T00:36:10.281607Z"
    }
   },
   "outputs": [
    {
     "name": "stdout",
     "output_type": "stream",
     "text": [
      "   nome_do_estabelecimento    palavra_chave mencoes   timestamp_coleta\n",
      "0               Beach Park            preço      38  27/02/23 21:34:32\n",
      "1               Beach Park         diversão      13  27/02/23 21:34:32\n",
      "2               Beach Park  parque aquático       9  27/02/23 21:34:32\n",
      "3               Beach Park              mar       9  27/02/23 21:34:32\n",
      "4               Beach Park          salgado       7  27/02/23 21:34:32\n",
      "5               Beach Park       brinquedos       6  27/02/23 21:34:32\n",
      "6               Beach Park         crianças       6  27/02/23 21:34:32\n",
      "7               Beach Park          valores       5  27/02/23 21:34:32\n",
      "8               Beach Park          serviço       5  27/02/23 21:34:32\n",
      "9               Beach Park           férias       3  27/02/23 21:34:32\n",
      "10           Petverso Café         ambiente      11  27/02/23 21:35:04\n",
      "11           Petverso Café         gatinhos       8  27/02/23 21:35:04\n",
      "12           Petverso Café            preço       4  27/02/23 21:35:04\n",
      "13           Petverso Café        decoração       3  27/02/23 21:35:04\n",
      "14           Petverso Café           espaço       3  27/02/23 21:35:04\n",
      "15           Petverso Café             bolo       3  27/02/23 21:35:04\n"
     ]
    }
   ],
   "source": [
    "print(dados['palavras'])"
   ]
  },
  {
   "cell_type": "code",
   "execution_count": 20,
   "metadata": {
    "ExecuteTime": {
     "end_time": "2023-02-28T00:37:47.351583Z",
     "start_time": "2023-02-28T00:37:47.335546Z"
    }
   },
   "outputs": [
    {
     "name": "stdout",
     "output_type": "stream",
     "text": [
      "  nome_do_estabelecimento                                         comentario  \\\n",
      "0              Beach Park  Espaço incrível. Conforto nota 10.\\nSuper priv...   \n",
      "1              Beach Park          (Tradução do Google) OK\\n\\n(Original)\\nOk   \n",
      "2              Beach Park  Maravilhoso! Ambiente a beira da praia, lounge...   \n",
      "3              Beach Park  Preço salgado e a seleta de frutos do mar R$40...   \n",
      "4              Beach Park  Excelente opção, atendimento muito bom e tudo ...   \n",
      "0           Petverso Café  Ambiente massa,comidas maravilhosas e lindos a...   \n",
      "1           Petverso Café                                Proposta inovadora.   \n",
      "2           Petverso Café  Levei minha filha que ficou encantada com os g...   \n",
      "3           Petverso Café              Excelente 👏👏👏. Voltarei e recomendo …   \n",
      "4           Petverso Café  Fui nesse local para conhecer os gatinhos e ac...   \n",
      "5           Petverso Café  Ótima comida, e depois de comer você ainda pod...   \n",
      "6           Petverso Café  Fomos conhecer a cafeteira que tem um espaço r...   \n",
      "\n",
      "    timestamp_coleta  \n",
      "0  27/02/23 21:34:32  \n",
      "1  27/02/23 21:34:32  \n",
      "2  27/02/23 21:34:32  \n",
      "3  27/02/23 21:34:32  \n",
      "4  27/02/23 21:34:32  \n",
      "0  27/02/23 21:35:04  \n",
      "1  27/02/23 21:35:04  \n",
      "2  27/02/23 21:35:04  \n",
      "3  27/02/23 21:35:04  \n",
      "4  27/02/23 21:35:04  \n",
      "5  27/02/23 21:35:04  \n",
      "6  27/02/23 21:35:04  \n"
     ]
    }
   ],
   "source": [
    "print(dados['comentarios'])"
   ]
  }
 ],
 "metadata": {
  "kernelspec": {
   "display_name": "Python 3 (ipykernel)",
   "language": "python",
   "name": "python3"
  },
  "language_info": {
   "codemirror_mode": {
    "name": "ipython",
    "version": 3
   },
   "file_extension": ".py",
   "mimetype": "text/x-python",
   "name": "python",
   "nbconvert_exporter": "python",
   "pygments_lexer": "ipython3",
   "version": "3.9.13"
  },
  "toc": {
   "base_numbering": 1,
   "nav_menu": {},
   "number_sections": true,
   "sideBar": true,
   "skip_h1_title": false,
   "title_cell": "Table of Contents",
   "title_sidebar": "Contents",
   "toc_cell": false,
   "toc_position": {},
   "toc_section_display": true,
   "toc_window_display": true
  },
  "varInspector": {
   "cols": {
    "lenName": 16,
    "lenType": 16,
    "lenVar": 40
   },
   "kernels_config": {
    "python": {
     "delete_cmd_postfix": "",
     "delete_cmd_prefix": "del ",
     "library": "var_list.py",
     "varRefreshCmd": "print(var_dic_list())"
    },
    "r": {
     "delete_cmd_postfix": ") ",
     "delete_cmd_prefix": "rm(",
     "library": "var_list.r",
     "varRefreshCmd": "cat(var_dic_list()) "
    }
   },
   "types_to_exclude": [
    "module",
    "function",
    "builtin_function_or_method",
    "instance",
    "_Feature"
   ],
   "window_display": false
  },
  "vscode": {
   "interpreter": {
    "hash": "62c54b5558eead5e1c591ac60cbc5918fb5b35f22e0cf9ea56ce540cc4219c32"
   }
  }
 },
 "nbformat": 4,
 "nbformat_minor": 2
}
